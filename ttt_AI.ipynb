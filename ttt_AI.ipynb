{
 "cells": [
  {
   "cell_type": "code",
   "execution_count": 1,
   "metadata": {},
   "outputs": [],
   "source": [
    "import numpy as np\n",
    "import random"
   ]
  },
  {
   "cell_type": "code",
   "execution_count": 400,
   "metadata": {},
   "outputs": [],
   "source": [
    "class Board():\n",
    "    def __init__(self, state):\n",
    "        self._state = state\n",
    "        self.marker_to_value = {'-': 0, 'X': 1, 'O': 2}\n",
    "        self.value_to_marker = {0: '-', 1: 'X', 2: 'O'}\n",
    "        \n",
    "    @property\n",
    "    def state(self):\n",
    "        \"\"\"Get the current state of the board.\"\"\"\n",
    "        return self._state\n",
    "    \n",
    "    @staticmethod\n",
    "    def moves_available(state):\n",
    "        return list(zip(*np.where(state==0)))\n",
    "    \n",
    "    \n",
    "    def update_board(self, move, marker):\n",
    "        marker_to_value = {'-': 0, 'X': 1, 'O': 2}\n",
    "        # fail if move is not available\n",
    "        assert self.state[move[0]][move[1]] == 0\n",
    "        assert marker in ['X', 'O']\n",
    "        self.state[move[0]][move[1]] = marker_to_value[marker]\n",
    "        \n",
    "    @staticmethod\n",
    "    def draw(state):\n",
    "        \"\"\"\n",
    "        Prints the board\n",
    "        \"\"\"\n",
    "        size = state.shape[0]\n",
    "        value_to_marker = {0: '-', 1: 'X', 2: 'O'}\n",
    "        for m in range(size):\n",
    "            print('|'.join([value_to_marker[state[m][n]] for n in range(size)]))\n",
    "            if m != size-1:\n",
    "                print('-'*((size*2)-1))\n",
    "    \n",
    "    @staticmethod    \n",
    "    def is_finished(state):\n",
    "        \"\"\"\n",
    "        Check of board is in a winning state\n",
    "        Return None if not a winning state, otherwise\n",
    "        Return the marker of the winning player (1 or 2) or 'draw' if draw\n",
    "        \"\"\"\n",
    "        value_to_marker = {0: '-', 1: 'X', 2: 'O'}\n",
    "        size = state.shape[0]\n",
    "        rows = [state[i,:] for i in range(size)]\n",
    "        cols = [state[:,j] for j in range(size)]\n",
    "        diag = [np.array([state[i,i] for i in range(size)])]\n",
    "        cross_diag = [np.array([state[(size-1)-i,i] for i in range(size)])]\n",
    "        lanes = np.concatenate((rows, cols, diag, cross_diag))\n",
    "        for lane in lanes:\n",
    "            if set(lane) == {1}:\n",
    "                print(f\"player {value_to_marker[1]} wins!\")\n",
    "                return value_to_marker[1]\n",
    "            if set(lane) == {2}:\n",
    "                print(f\"player {value_to_marker[2]} wins!\")\n",
    "                #self.draw()\n",
    "                return value_to_marker[2]\n",
    "        \n",
    "        # check for draw\n",
    "        if np.all(state!=0):\n",
    "            print('Draw!')\n",
    "            return 'draw'\n",
    "        \n",
    "        # game still in progress\n",
    "        return None\n"
   ]
  },
  {
   "cell_type": "code",
   "execution_count": 401,
   "metadata": {},
   "outputs": [],
   "source": [
    "class RandomPlayer():\n",
    "\n",
    "    def __init__(self, marker):\n",
    "        self.marker = marker\n",
    "        \n",
    "    def move(self, board):\n",
    "        \n",
    "        moves_available = board.moves_available(board.state)\n",
    "        move = random.choice(moves_available)\n",
    "        return move"
   ]
  },
  {
   "cell_type": "code",
   "execution_count": 402,
   "metadata": {},
   "outputs": [
    {
     "name": "stdout",
     "output_type": "stream",
     "text": [
      "player O wins!\n",
      "O|O|-\n",
      "-----\n",
      "X|O|X\n",
      "-----\n",
      "X|O|X\n"
     ]
    }
   ],
   "source": [
    "board = Board(state=np.zeros((3,3), dtype=int))\n",
    "\n",
    "player1 = RandomPlayer('X')\n",
    "player2 = RandomPlayer('O')\n",
    "\n",
    "turns = 0\n",
    "active_player = player1\n",
    "inactive_player = player2\n",
    "while not board.is_finished(board.state):\n",
    "    move = active_player.move(board)\n",
    "    board.update_board(move=move, marker=active_player.marker)\n",
    "    turns += 1\n",
    "    if turns > 20:\n",
    "        break\n",
    "    # switch players\n",
    "    active_player, inactive_player = inactive_player, active_player\n",
    "board.draw(board.state)"
   ]
  },
  {
   "cell_type": "code",
   "execution_count": 403,
   "metadata": {},
   "outputs": [],
   "source": [
    "###############################"
   ]
  },
  {
   "cell_type": "code",
   "execution_count": 404,
   "metadata": {},
   "outputs": [],
   "source": [
    "import networkx as nx"
   ]
  },
  {
   "cell_type": "code",
   "execution_count": 405,
   "metadata": {},
   "outputs": [],
   "source": [
    "def play_move(state, move, marker):\n",
    "    new_state = np.copy(state)\n",
    "    marker_to_value = {'-': 0, 'X': 1, 'O': 2}\n",
    "    # fail if move is not available\n",
    "    assert new_state[move[0]][move[1]] == 0\n",
    "    assert marker in ['X', 'O']\n",
    "    new_state[move[0]][move[1]] = marker_to_value[marker]\n",
    "    return new_state"
   ]
  },
  {
   "cell_type": "code",
   "execution_count": 406,
   "metadata": {},
   "outputs": [],
   "source": [
    "import matplotlib.pyplot as plt\n",
    "from networkx.drawing.nx_agraph import graphviz_layout\n",
    "\n",
    "def draw_graph(G, fig_size = (5,5), node_label=None, edge_label=None):\n",
    "    f, ax = plt.subplots(figsize=fig_size)\n",
    "    G.graph.setdefault('graph', {})['rankdir'] = 'LR'\n",
    "    # color nodes based on winner\n",
    "    node_color = []\n",
    "    node_size = 50\n",
    "    for node in G.nodes(data=True):\n",
    "        if node[1]['finished']:\n",
    "            if node[1]['result'] == 'won':\n",
    "                node_color.append('green')\n",
    "            elif node[1]['result'] == 'lost':\n",
    "                node_color.append('red')\n",
    "            elif node[1]['result'] == 'draw':\n",
    "                node_color.append('yellow')\n",
    "            else:\n",
    "                node_color.append('blue')\n",
    "        else:\n",
    "            node_color.append('lightgray')\n",
    "    pos = graphviz_layout(G, prog='dot')\n",
    "    if node_label:\n",
    "        nx.draw_networkx(G, pos=pos, labels=nx.get_node_attributes(G, node_label), node_color=node_color, node_size=node_size)\n",
    "    else:\n",
    "        nx.draw_networkx(G, pos=pos, with_labels=False, node_color=node_color, node_size=node_size)   \n",
    "    if edge_label:\n",
    "        nx.draw_networkx_edge_labels(G, pos=pos, edge_labels=nx.get_edge_attributes(G, edge_label))\n",
    "        \n",
    "    plt.show()\n",
    "    return\n",
    "\n",
    "def search(board, player, max_depth=3): # -> DiGraph\n",
    "    \"\"\"\n",
    "    Run game simulations from current game state to a maximum number\n",
    "    of moves ahead (max_depth)\n",
    "    Return the graph of possible moves and outcomes\n",
    "    state = [(1,1), (1,1)]\n",
    "    Assume player is player to be maximized\n",
    "    \"\"\"\n",
    "    player_marker = player.marker\n",
    "    opponent_marker = {'X': 'O', 'O': 'X'}.get(player.marker)\n",
    "    \n",
    "    turn_marker = player.marker\n",
    "    non_turn_maker = opponent_marker\n",
    "    \n",
    "    depth = 0\n",
    "    n = 0 # node label which also serves as a node counter\n",
    "\n",
    "    G = nx.DiGraph()\n",
    "    G.add_node(0, finished=board.is_finished(board.state), player=turn_marker, state=board.state)\n",
    "    \n",
    "    # First branch in look ahead\n",
    "    newleavelist=[]\n",
    "    \n",
    "    for move in board.moves_available(state=board.state):   \n",
    "        # Do move   \n",
    "        new_state = play_move(state=board.state, move=move, marker=turn_marker)\n",
    "        # Check if game is finished after move\n",
    "        is_finished = board.is_finished(new_state)\n",
    "\n",
    "        # Add move node to graph\n",
    "        n=n+1\n",
    "        G.add_node(n, finished=is_finished, player=non_turn_maker, state=new_state)\n",
    "        G.add_edge(0, n, move=move)\n",
    "        if is_finished:\n",
    "            G.nodes[n]['result'] = {player_marker:'won', opponent_marker:'lost', 'draw':'draw'}.get(is_finished)\n",
    "            continue\n",
    "        newleavelist.append(n)\n",
    "    \n",
    "    depth+=1\n",
    "    # Subsequent branches\n",
    "    while depth < max_depth:\n",
    "        # switch turns\n",
    "        turn_marker, non_turn_maker = non_turn_maker, turn_marker\n",
    "        leavelist = newleavelist[:]\n",
    "        newleavelist = []\n",
    "        for leave in leavelist: \n",
    "            # Get parent board\n",
    "            parent_board = Board(G.nodes[leave]['state'])\n",
    "            for move in parent_board.moves_available(parent_board.state):\n",
    "                # Do move   \n",
    "                new_state = play_move(state=board.state, move=move, marker=turn_marker)\n",
    "                # Check if game is finished after move\n",
    "                is_finished = board.is_finished(new_state)\n",
    "                # Add move node to graph\n",
    "                n=n+1\n",
    "                G.add_node(n, finished=is_finished, player=non_turn_maker, state=new_state)\n",
    "                G.add_edge(leave, n, move=move)\n",
    "                if is_finished:\n",
    "                    G.nodes[n]['result'] = {player_marker: 'won', opponent_marker: 'lost', 'draw': 'draw'}.get(is_finished)\n",
    "                    continue  \n",
    "                newleavelist.append(n)\n",
    "        depth=depth+1\n",
    "    return G    \n"
   ]
  },
  {
   "cell_type": "code",
   "execution_count": 410,
   "metadata": {},
   "outputs": [
    {
     "name": "stdout",
     "output_type": "stream",
     "text": [
      "O|X|X\n",
      "-----\n",
      "X|O|O\n",
      "-----\n",
      "X|O|-\n"
     ]
    }
   ],
   "source": [
    "# Draw!\n",
    "# O|X|X\n",
    "# -----\n",
    "# X|O|O\n",
    "# -----\n",
    "# X|O|X\n",
    "\n",
    "player1 = RandomPlayer('X')\n",
    "player2 = RandomPlayer('O')\n",
    "board = Board(np.array([[2,1,1],[1,2,2],[1,2,0]]))\n",
    "board.draw(board.state)"
   ]
  },
  {
   "cell_type": "code",
   "execution_count": 412,
   "metadata": {},
   "outputs": [
    {
     "name": "stdout",
     "output_type": "stream",
     "text": [
      "player O wins!\n"
     ]
    }
   ],
   "source": [
    "G = search(board=board, player=player2, max_depth=1)"
   ]
  },
  {
   "cell_type": "code",
   "execution_count": 413,
   "metadata": {},
   "outputs": [
    {
     "data": {
      "image/png": "[encoded data removed]",
      "text/plain": [
       "<Figure size 360x360 with 1 Axes>"
      ]
     },
     "metadata": {},
     "output_type": "display_data"
    },
    {
     "data": {
      "image/png": "[encoded data removed]",
      "text/plain": [
       "<Figure size 360x360 with 1 Axes>"
      ]
     },
     "metadata": {},
     "output_type": "display_data"
    }
   ],
   "source": [
    "draw_graph(G, fig_size=(5,5), node_label='result', edge_label='move')\n",
    "draw_graph(G, fig_size=(5,5), node_label='player', edge_label='move')\n",
    "#draw_graph(G, fig_size=(5,20))"
   ]
  },
  {
   "cell_type": "code",
   "execution_count": null,
   "metadata": {},
   "outputs": [],
   "source": []
  },
  {
   "cell_type": "code",
   "execution_count": null,
   "metadata": {},
   "outputs": [],
   "source": []
  },
  {
   "cell_type": "code",
   "execution_count": null,
   "metadata": {},
   "outputs": [],
   "source": []
  },
  {
   "cell_type": "code",
   "execution_count": null,
   "metadata": {},
   "outputs": [],
   "source": []
  },
  {
   "cell_type": "code",
   "execution_count": null,
   "metadata": {},
   "outputs": [],
   "source": []
  },
  {
   "cell_type": "code",
   "execution_count": null,
   "metadata": {},
   "outputs": [],
   "source": []
  },
  {
   "cell_type": "code",
   "execution_count": null,
   "metadata": {},
   "outputs": [],
   "source": [
    "# class Game():\n",
    "#     def __init__(self, player1, player2):\n",
    "#         self.player1 = player1\n",
    "#         self.player2 = player2\n",
    "#         self._active_player = player1\n",
    "#         self._inactive_player = player2\n",
    "#         self._turns = 1\n",
    "#         self.player1.idx = 1 # test that these can be switched without affecting game score\n",
    "#         self.player2.idx = 0\n",
    "        \n",
    "#     @property\n",
    "#     def active_player(self):\n",
    "#         return self._active_player\n",
    "    \n",
    "#     @property\n",
    "#     def inactive_player(self):\n",
    "#         return self._inactive_player\n",
    "    \n",
    "#     @property\n",
    "#     def turns(self):\n",
    "#         return self._turns\n",
    "    \n",
    "#     def end_of_turn(self):\n",
    "#         '''Switch players and increment turn count'''\n",
    "#         self._active_player, self._inactive_player = self._inactive_player, self._active_player\n",
    "#         self._turns += 1"
   ]
  }
 ],
 "metadata": {
  "kernelspec": {
   "display_name": "chopsticks",
   "language": "python",
   "name": "chopsticks"
  },
  "language_info": {
   "codemirror_mode": {
    "name": "ipython",
    "version": 3
   },
   "file_extension": ".py",
   "mimetype": "text/x-python",
   "name": "python",
   "nbconvert_exporter": "python",
   "pygments_lexer": "ipython3",
   "version": "3.6.5"
  }
 },
 "nbformat": 4,
 "nbformat_minor": 4
}
