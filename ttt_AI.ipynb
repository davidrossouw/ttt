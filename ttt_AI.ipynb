{
 "cells": [
  {
   "cell_type": "code",
   "execution_count": 3,
   "metadata": {},
   "outputs": [],
   "source": [
    "import numpy as np\n",
    "from collections import Counter\n",
    "from model import Board, RandomPlayer, MiniMaxPlayer"
   ]
  },
  {
   "cell_type": "code",
   "execution_count": 4,
   "metadata": {},
   "outputs": [
    {
     "name": "stdout",
     "output_type": "stream",
     "text": [
      "0 games completed.\n",
      "10 games completed.\n",
      "20 games completed.\n",
      "30 games completed.\n",
      "40 games completed.\n"
     ]
    }
   ],
   "source": [
    "results = []\n",
    "\n",
    "for game in range(50):\n",
    "    \n",
    "    board = Board(state=np.zeros((3,3), dtype=int))\n",
    "    player1 = RandomPlayer('X')\n",
    "    player2 = MiniMaxPlayer('O', search_depth=4)\n",
    "\n",
    "    turns = 0\n",
    "    active_player = player1\n",
    "    inactive_player = player2\n",
    "    while not board.is_finished(board.state):\n",
    "        move = active_player.move(board)\n",
    "        board.update_board(move=move, marker=active_player.marker)\n",
    "        turns += 1\n",
    "        # switch players\n",
    "        active_player, inactive_player = inactive_player, active_player\n",
    "\n",
    "#     Display game result\n",
    "#     board.draw(board.state)\n",
    "#     print(f\"The winner is: {board.is_finished(board.state)}\")\n",
    "\n",
    "    if game % 10 == 0:\n",
    "        print(f\"{game} games completed.\")\n",
    "    results.append(board.is_finished(board.state))"
   ]
  },
  {
   "cell_type": "code",
   "execution_count": 5,
   "metadata": {},
   "outputs": [
    {
     "data": {
      "text/plain": [
       "Counter({'O': 35, 'draw': 11, 'X': 4})"
      ]
     },
     "execution_count": 5,
     "metadata": {},
     "output_type": "execute_result"
    }
   ],
   "source": [
    "Counter(results)"
   ]
  },
  {
   "cell_type": "code",
   "execution_count": null,
   "metadata": {},
   "outputs": [],
   "source": []
  }
 ],
 "metadata": {
  "kernelspec": {
   "display_name": "chopsticks",
   "language": "python",
   "name": "chopsticks"
  },
  "language_info": {
   "codemirror_mode": {
    "name": "ipython",
    "version": 3
   },
   "file_extension": ".py",
   "mimetype": "text/x-python",
   "name": "python",
   "nbconvert_exporter": "python",
   "pygments_lexer": "ipython3",
   "version": "3.6.5"
  }
 },
 "nbformat": 4,
 "nbformat_minor": 4
}
