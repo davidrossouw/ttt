{
 "cells": [
  {
   "cell_type": "markdown",
   "metadata": {},
   "source": [
    "# Play a game - Human/Random vs. MiniMax"
   ]
  },
  {
   "cell_type": "code",
   "execution_count": null,
   "metadata": {},
   "outputs": [],
   "source": [
    "import numpy as np\n",
    "import pickle\n",
    "import random\n",
    "from collections import Counter\n",
    "from model import Board, HumanPlayer, RandomPlayer, MiniMaxPlayer"
   ]
  },
  {
   "cell_type": "code",
   "execution_count": null,
   "metadata": {},
   "outputs": [],
   "source": [
    "# player1 = RandomPlayer('O')\n",
    "# player2 = MiniMaxPlayer('X', first_move=False)\n",
    "\n",
    "player1 = MiniMaxPlayer('X', first_move=True)\n",
    "player2 = RandomPlayer('O')\n",
    "\n",
    "results = []\n",
    "\n",
    "for game in range(1000):\n",
    "    # reset board\n",
    "    board = Board(np.zeros((3,3), dtype=int))\n",
    "    turns = 0\n",
    "    active_player = player1\n",
    "    inactive_player = player2\n",
    "    while not board.is_finished(board.state):\n",
    "        move = active_player.move(board)\n",
    "        board.update_board(move=move, marker=active_player.marker)\n",
    "        turns += 1\n",
    "        # switch players\n",
    "        active_player, inactive_player = inactive_player, active_player\n",
    "\n",
    "    #Display game result\n",
    "    #board.draw(board.state)\n",
    "    #print(f\"The winner is: {board.is_finished(board.state)}\")\n",
    "    \n",
    "    results.append(board.is_finished(board.state))"
   ]
  },
  {
   "cell_type": "code",
   "execution_count": null,
   "metadata": {},
   "outputs": [],
   "source": [
    "Counter(results)"
   ]
  }
 ],
 "metadata": {
  "kernelspec": {
   "display_name": "chopsticks",
   "language": "python",
   "name": "chopsticks"
  },
  "language_info": {
   "codemirror_mode": {
    "name": "ipython",
    "version": 3
   },
   "file_extension": ".py",
   "mimetype": "text/x-python",
   "name": "python",
   "nbconvert_exporter": "python",
   "pygments_lexer": "ipython3",
   "version": "3.6.5"
  }
 },
 "nbformat": 4,
 "nbformat_minor": 4
}
