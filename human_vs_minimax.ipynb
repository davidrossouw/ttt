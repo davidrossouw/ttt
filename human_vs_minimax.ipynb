{
 "cells": [
  {
   "cell_type": "code",
   "execution_count": null,
   "metadata": {},
   "outputs": [],
   "source": [
    "import numpy as np\n",
    "import pickle\n",
    "from model import Board"
   ]
  },
  {
   "cell_type": "code",
   "execution_count": null,
   "metadata": {},
   "outputs": [],
   "source": [
    "class HumanPlayer():\n",
    "    \"\"\"\n",
    "    A generic player\n",
    "    \"\"\"\n",
    "    def __init__(self, marker):\n",
    "        self.marker = marker\n",
    "        \n",
    "    def move(self, board):\n",
    "        \"\"\"Move selection\"\"\"\n",
    "        board.draw(board.state)\n",
    "        row = input(prompt='0,1,2 :')\n",
    "        col = input(prompt='0,1,2 :')\n",
    "        move = (int(row), int(col))\n",
    "        return move\n",
    "\n",
    "        \n",
    "class MiniMaxPlayer():\n",
    "    \"\"\"\n",
    "    A generic player\n",
    "    \"\"\"\n",
    "    def __init__(self, marker):\n",
    "        self.marker = marker\n",
    "        with open('ttt_minimax.pickle', 'rb') as f:\n",
    "            self.minimax = pickle.load(f)\n",
    "        \n",
    "    def move(self, board):\n",
    "        \"\"\"Move selection\"\"\"\n",
    "        move = self.minimax[board.state.tostring()]\n",
    "        return move"
   ]
  },
  {
   "cell_type": "markdown",
   "metadata": {},
   "source": [
    "# Play a game - Human vs. MiniMax"
   ]
  },
  {
   "cell_type": "code",
   "execution_count": null,
   "metadata": {},
   "outputs": [],
   "source": [
    "player1 = MiniMaxPlayer('X')\n",
    "player2 = HumanPlayer('O')\n",
    "board = Board(np.zeros((3,3), dtype=int))\n",
    "\n",
    "turns = 0\n",
    "active_player = player1\n",
    "inactive_player = player2\n",
    "while not board.is_finished(board.state):\n",
    "    move = active_player.move(board)\n",
    "    board.update_board(move=move, marker=active_player.marker)\n",
    "    turns += 1\n",
    "    # switch players\n",
    "    active_player, inactive_player = inactive_player, active_player\n",
    "\n",
    "#Display game result\n",
    "board.draw(board.state)\n",
    "print(f\"The winner is: {board.is_finished(board.state)}\")"
   ]
  }
 ],
 "metadata": {
  "kernelspec": {
   "display_name": "chopsticks",
   "language": "python",
   "name": "chopsticks"
  },
  "language_info": {
   "codemirror_mode": {
    "name": "ipython",
    "version": 3
   },
   "file_extension": ".py",
   "mimetype": "text/x-python",
   "name": "python",
   "nbconvert_exporter": "python",
   "pygments_lexer": "ipython3",
   "version": "3.6.5"
  }
 },
 "nbformat": 4,
 "nbformat_minor": 4
}
