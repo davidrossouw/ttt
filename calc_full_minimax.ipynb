{
 "cells": [
  {
   "cell_type": "code",
   "execution_count": null,
   "metadata": {},
   "outputs": [],
   "source": [
    "import pickle\n",
    "import numpy as np\n",
    "from collections import Counter\n",
    "from model import Board, RandomPlayer, MiniMaxPlayer, HumanPlayer, Player, search, minimax, draw_graph\n",
    "import networkx as nx\n",
    "import matplotlib.pyplot as plt\n",
    "from networkx.drawing.nx_agraph import graphviz_layout"
   ]
  },
  {
   "cell_type": "markdown",
   "metadata": {},
   "source": [
    "# Set up a player and blank board"
   ]
  },
  {
   "cell_type": "code",
   "execution_count": null,
   "metadata": {},
   "outputs": [],
   "source": [
    "# X goes first\n",
    "player = Player('X')\n",
    "board = Board(state=np.zeros((3,3), dtype=int))\n",
    "board.draw(board.state)"
   ]
  },
  {
   "cell_type": "markdown",
   "metadata": {},
   "source": [
    "# Minimax over full game space (depth=9)"
   ]
  },
  {
   "cell_type": "code",
   "execution_count": null,
   "metadata": {},
   "outputs": [],
   "source": [
    "%%time\n",
    "G = search(board, player_marker='X', max_depth=9, player_moves_first=True)"
   ]
  },
  {
   "cell_type": "code",
   "execution_count": null,
   "metadata": {},
   "outputs": [],
   "source": [
    "print(G.number_of_nodes())\n",
    "leaf_nodes = [node for node in G.nodes() if G.in_degree(node)!=0 and G.out_degree(node)==0]\n",
    "print(len(leaf_nodes))"
   ]
  },
  {
   "cell_type": "code",
   "execution_count": null,
   "metadata": {},
   "outputs": [],
   "source": [
    "#Gs = G.subgraph(nx.dfs_tree(G, 0))\n",
    "Gs = G.subgraph(nx.dfs_tree(G, 0, depth_limit=3))\n",
    "Gs.number_of_nodes()\n",
    "draw_graph(Gs, fig_size=(5, 20), node_label='player', edge_label='move')"
   ]
  },
  {
   "cell_type": "markdown",
   "metadata": {},
   "source": [
    "# Do minimax over all states"
   ]
  },
  {
   "cell_type": "code",
   "execution_count": null,
   "metadata": {},
   "outputs": [],
   "source": [
    "%%time\n",
    "H = minimax(G, first_move=True)"
   ]
  },
  {
   "cell_type": "code",
   "execution_count": null,
   "metadata": {},
   "outputs": [],
   "source": [
    "#Gs = G.subgraph(nx.dfs_tree(G, 0))\n",
    "Hs = H.subgraph(nx.dfs_tree(H, 0, depth_limit=2))\n",
    "Hs.number_of_nodes()\n",
    "draw_graph(Hs, fig_size=(5, 20), node_label='player', edge_label='move')"
   ]
  },
  {
   "cell_type": "code",
   "execution_count": null,
   "metadata": {},
   "outputs": [],
   "source": [
    "#Gs = G.subgraph(nx.dfs_tree(G, 0))\n",
    "Hs = H.subgraph(nx.dfs_tree(H, 800, depth_limit=4))\n",
    "Hs.number_of_nodes()\n",
    "draw_graph(Hs, fig_size=(5, 20), node_label='score', edge_label='move')"
   ]
  },
  {
   "cell_type": "code",
   "execution_count": null,
   "metadata": {},
   "outputs": [],
   "source": [
    "# Add best minimax move to each node\n",
    "for n in H.nodes():\n",
    "    scores = [(v, c['move'], H.nodes[v]['score']) for (u, v, c) in H.out_edges(n, data=True)]\n",
    "    if scores:\n",
    "        best_move = max(scores, key = lambda t: t[2])[1]\n",
    "        H.nodes[n]['best_move'] = best_move"
   ]
  },
  {
   "cell_type": "code",
   "execution_count": null,
   "metadata": {},
   "outputs": [],
   "source": [
    "# Hash all best moves:\n",
    "minimax_move = {}\n",
    "\n",
    "for node in H.nodes(data=True):\n",
    "    if node[1].get('best_move') and node[1].get('player') == 'max':\n",
    "        minimax_move[node[1]['state'].tostring()] = node[1]['best_move']"
   ]
  },
  {
   "cell_type": "markdown",
   "metadata": {},
   "source": [
    "## Save minimax dictionary to disk"
   ]
  },
  {
   "cell_type": "code",
   "execution_count": null,
   "metadata": {},
   "outputs": [],
   "source": [
    "with open('ttt_minimax_first_move_dict.pickle', 'wb') as f:\n",
    "    # Pickle the 'data' dictionary using the highest protocol available.\n",
    "    pickle.dump(minimax_move, f, pickle.HIGHEST_PROTOCOL)"
   ]
  }
 ],
 "metadata": {
  "kernelspec": {
   "display_name": "chopsticks",
   "language": "python",
   "name": "chopsticks"
  },
  "language_info": {
   "codemirror_mode": {
    "name": "ipython",
    "version": 3
   },
   "file_extension": ".py",
   "mimetype": "text/x-python",
   "name": "python",
   "nbconvert_exporter": "python",
   "pygments_lexer": "ipython3",
   "version": "3.6.5"
  }
 },
 "nbformat": 4,
 "nbformat_minor": 4
}
