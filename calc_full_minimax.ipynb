{
 "cells": [
  {
   "cell_type": "code",
   "execution_count": null,
   "metadata": {},
   "outputs": [],
   "source": [
    "import numpy as np\n",
    "from collections import Counter\n",
    "from model import Board, RandomPlayer, MiniMaxPlayer\n",
    "import networkx as nx\n",
    "import matplotlib.pyplot as plt\n",
    "from networkx.drawing.nx_agraph import graphviz_layout"
   ]
  },
  {
   "cell_type": "code",
   "execution_count": null,
   "metadata": {},
   "outputs": [],
   "source": [
    "class Player():\n",
    "    \"\"\"\n",
    "    A generic player\n",
    "    \"\"\"\n",
    "    def __init__(self, marker):\n",
    "        self.marker = marker\n"
   ]
  },
  {
   "cell_type": "code",
   "execution_count": null,
   "metadata": {},
   "outputs": [],
   "source": [
    "def minimax(Graph):\n",
    "    \"\"\"\n",
    "    Perform minimax from node n on a NetworkX graph G.\n",
    "    Assume node n is a maximiser node.\n",
    "    Return best move\n",
    "    \"\"\"\n",
    "    maxplayer = True\n",
    "    minplayer = False\n",
    "    G = Graph.copy()\n",
    "    G.nodes[0].update({'player': 'max'})\n",
    "    # Recursive tree search\n",
    "    def _minimax(G, n, player):\n",
    "\n",
    "        # Base case, winning node found\n",
    "        if G.nodes[n]['finished']:\n",
    "            if G.nodes[n]['result'] == 'won':\n",
    "                score = 100\n",
    "            elif G.nodes[n]['result'] == 'lost':\n",
    "                score = -100\n",
    "            elif G.nodes[n]['result'] == 'draw':\n",
    "                score = 0\n",
    "            else:\n",
    "                assert True == False\n",
    "\n",
    "            G.nodes[n].update({'score': score})\n",
    "            return score\n",
    "\n",
    "        if player == maxplayer:\n",
    "            bestv = -1\n",
    "            for child in G.successors(n):\n",
    "                v = _minimax(G, child, minplayer)\n",
    "                G.nodes[child].update({'score': v, 'player': 'min'})\n",
    "                bestv = max(bestv, v)\n",
    "        else:\n",
    "            bestv = 1\n",
    "            for child in G.successors(n):\n",
    "                v = _minimax(G, child, maxplayer)\n",
    "                G.nodes[child].update({'score': v, 'player': 'max'})\n",
    "                bestv = min(bestv, v)\n",
    "        return bestv\n",
    "\n",
    "    # Find the best first move from the given node\n",
    "    # Assume given node n is a maximiser node.\n",
    "    best_node = None\n",
    "    bestv = -1\n",
    "\n",
    "    for child in G.successors(0):\n",
    "        v = _minimax(G, child, minplayer)\n",
    "        G.nodes[child].update({'score': v, 'player': 'min'})\n",
    "\n",
    "        if v > bestv:\n",
    "            best_node = child\n",
    "            bestv = v\n",
    "\n",
    "    return G"
   ]
  },
  {
   "cell_type": "markdown",
   "metadata": {},
   "source": [
    "# Set up a player and blank board"
   ]
  },
  {
   "cell_type": "code",
   "execution_count": null,
   "metadata": {},
   "outputs": [],
   "source": [
    "# X goes first\n",
    "player = Player('X')\n",
    "board = Board(state=np.zeros((3,3), dtype=int))\n",
    "board.draw(board.state)"
   ]
  },
  {
   "cell_type": "markdown",
   "metadata": {},
   "source": [
    "# Minimax over full game space (depth=9)"
   ]
  },
  {
   "cell_type": "code",
   "execution_count": null,
   "metadata": {},
   "outputs": [],
   "source": [
    "%%time\n",
    "G = MiniMaxPlayer.search(board, player, max_depth=9)"
   ]
  },
  {
   "cell_type": "code",
   "execution_count": null,
   "metadata": {},
   "outputs": [],
   "source": [
    "print(G.number_of_nodes())\n",
    "leaf_nodes = [node for node in G.nodes() if G.in_degree(node)!=0 and G.out_degree(node)==0]\n",
    "print(len(leaf_nodes))"
   ]
  },
  {
   "cell_type": "code",
   "execution_count": null,
   "metadata": {},
   "outputs": [],
   "source": [
    "#MiniMaxPlayer.draw_graph(G, fig_size=(5, 20), node_label='player', edge_label='move')"
   ]
  },
  {
   "cell_type": "markdown",
   "metadata": {},
   "source": [
    "# Do minimax over all states"
   ]
  },
  {
   "cell_type": "code",
   "execution_count": null,
   "metadata": {},
   "outputs": [],
   "source": [
    "%%time\n",
    "H = minimax(G)"
   ]
  },
  {
   "cell_type": "code",
   "execution_count": null,
   "metadata": {},
   "outputs": [],
   "source": [
    "H.number_of_nodes()"
   ]
  },
  {
   "cell_type": "code",
   "execution_count": null,
   "metadata": {},
   "outputs": [],
   "source": [
    "# Add best minimax move to each node\n",
    "for n in H.nodes():\n",
    "    scores = [(v, c['move'], H.nodes[v]['score']) for (u, v, c) in H.out_edges(n, data=True)]\n",
    "    if scores:\n",
    "        best_move = max(scores, key = lambda t: t[2])[1]\n",
    "        H.nodes[n]['best_move'] = best_move"
   ]
  },
  {
   "cell_type": "code",
   "execution_count": null,
   "metadata": {},
   "outputs": [],
   "source": [
    "#MiniMaxPlayer.draw_graph(H, fig_size=(5, 20), node_label='best_move', edge_label='move')"
   ]
  },
  {
   "cell_type": "code",
   "execution_count": null,
   "metadata": {},
   "outputs": [],
   "source": [
    "# Hash all best moves:\n",
    "best_moves_X = {}\n",
    "\n",
    "for node in H.nodes(data=True):\n",
    "    if node[1].get('best_move') and node[1].get('player') == 'max':\n",
    "        best_moves_X[node[1]['state'].tostring()] = node[1]['best_move']"
   ]
  },
  {
   "cell_type": "code",
   "execution_count": null,
   "metadata": {},
   "outputs": [],
   "source": [
    "len(best_moves_X.keys())"
   ]
  },
  {
   "cell_type": "markdown",
   "metadata": {},
   "source": [
    "## Save minimax dictionary to disk"
   ]
  },
  {
   "cell_type": "code",
   "execution_count": null,
   "metadata": {},
   "outputs": [],
   "source": [
    "import pickle\n",
    "# ...\n",
    "with open('ttt_minimax.pickle', 'wb') as f:\n",
    "    # Pickle the 'data' dictionary using the highest protocol available.\n",
    "    pickle.dump(best_moves_X, f, pickle.HIGHEST_PROTOCOL)"
   ]
  }
 ],
 "metadata": {
  "kernelspec": {
   "display_name": "chopsticks",
   "language": "python",
   "name": "chopsticks"
  },
  "language_info": {
   "codemirror_mode": {
    "name": "ipython",
    "version": 3
   },
   "file_extension": ".py",
   "mimetype": "text/x-python",
   "name": "python",
   "nbconvert_exporter": "python",
   "pygments_lexer": "ipython3",
   "version": "3.6.5"
  }
 },
 "nbformat": 4,
 "nbformat_minor": 4
}
